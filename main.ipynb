{
 "cells": [
  {
   "cell_type": "markdown",
   "id": "58c978e8",
   "metadata": {},
   "source": [
    "# Task 3\n",
    "## Часть 1\n",
    "Нужно написать скрипт, который скачивает все данные прошедших президентских выборов для всех избирательных участков.\n",
    "\n",
    "Входная точка по ссылке. Затем нужно перейти на сайты региональных избирательных комиссий. Результаты нужно сохранить в cvs-файл, sqlite базе данных или parquet-файле. В итоге должна получиться таблица с полями: - название региона - название ТИК - номер УИК - 20 стандартных полей из итогового протокола\n",
    "\n",
    "## Часть 2\n",
    "Нужно, используя Spark:\n",
    "- найти явку (%) по всем регионам, результат отсортировать по убыванию\n",
    "- выбрать любимого кандидата и найти тот избиратльный участок, на котором он получил наибольший результат (учитывать участки на которых проголосовало больше 300 человек)\n",
    "- найти регион, где разница между ТИК с наибольшей явкой и наименьшей максимальна\n",
    "- посчитать дисперсию по явке для каждого региона (учитывать УИК)\n",
    "- для каждого кандидата посчитать таблицу: результат (%, округленный до целого) - количество УИК, на которых кандидат получил данный результат\n",
    "\n",
    "Результаты принимаются в виде Jupyter Notebook, Spark Notebook или исходных файлов на Scala.\n"
   ]
  },
  {
   "cell_type": "markdown",
   "id": "72c674f2",
   "metadata": {},
   "source": [
    "## Парсинг сайта\n",
    "Парсинг происходил с помощью функций в скрипте crawler.py: т.к. сайт вёл себя нестабильно во время парсинга и часто происходили ошибки Timeout, то было принято решение парсить по отдельным регионам, сохраняя результаты в отдельные *.csv документы. А затем с помощью скрипта concat_files.py соединять их воедино."
   ]
  },
  {
   "source": [
    "# Обработка с помощью Spark"
   ],
   "cell_type": "markdown",
   "metadata": {}
  },
  {
   "cell_type": "code",
   "execution_count": 1,
   "metadata": {},
   "outputs": [],
   "source": [
    "from pyspark.sql import SparkSession\n",
    "from pyspark.sql.types import StructType, StructField, StringType as string, IntegerType as integer\n",
    "from pyspark import SparkContext\n",
    "from pyspark.sql import functions as F\n"
   ]
  },
  {
   "cell_type": "code",
   "execution_count": 2,
   "metadata": {},
   "outputs": [],
   "source": [
    "spark = SparkSession.builder.getOrCreate()"
   ]
  },
  {
   "source": [
    "## Определение полей файла"
   ],
   "cell_type": "markdown",
   "metadata": {}
  },
  {
   "cell_type": "code",
   "execution_count": 3,
   "metadata": {},
   "outputs": [],
   "source": [
    "f_name = 'all_csv.csv'\n",
    "\n",
    "schema= StructType([\n",
    "            StructField(\"index1\",                      integer(), False), #1\n",
    "            StructField(\"index2\",                      integer(), False), #2\n",
    "            StructField(\"region_name\",                 string(), False), #3\n",
    "            StructField(\"tik_name\",                    string(), False), #4\n",
    "            StructField(\"uik_num\",                     string(), False), #5\n",
    "            StructField(\"cnt_list_voters\",             integer(), False),#6\n",
    "            StructField(\"bulletins_received_comm\",     integer(), False),#7\n",
    "            StructField(\"gived_bulletins_ahead\",       integer(), False),#8\n",
    "            StructField(\"inside_bulletins\",            integer(), False),#9\n",
    "            StructField(\"outside_bulletins\",           integer(), False),#10\n",
    "            StructField(\"cancel_bulletins\",            integer(), False),#11\n",
    "            StructField(\"transfer_box_bulletins\",      integer(), False),#12\n",
    "            StructField(\"stat_box_bulletins\",          integer(), False),#13\n",
    "            StructField(\"invalid_bulletins\",           integer(), False),#14\n",
    "            StructField(\"valid_bulletins\",             integer(), False),#15\n",
    "            StructField(\"lost_bulletins\",              integer(), False),#16\n",
    "            StructField(\"uncount_bulletins\",           integer(), False),#17\n",
    "            StructField(\"baburin\",                     integer(), False),#18\n",
    "            StructField(\"grudinin\",                    integer(), False),#19\n",
    "            StructField(\"jirinovskiy\",                 integer(), False),#20\n",
    "            StructField(\"putin\",                       integer(), False),#21\n",
    "            StructField(\"sobchak\",                     integer(), False),#22\n",
    "            StructField(\"suraykin\",                    integer(), False),#23\n",
    "            StructField(\"titov\",                       integer(), False),#24\n",
    "            StructField(\"yavlinskiy\",                  integer(), False)]#25\n",
    "        )\n",
    "\n",
    "data = spark.read.csv(f_name, schema=schema)"
   ]
  },
  {
   "source": [
    "## Найти явку (%) по всем регионам, результат отсортировать по убыванию"
   ],
   "cell_type": "markdown",
   "metadata": {}
  },
  {
   "cell_type": "code",
   "execution_count": 4,
   "metadata": {},
   "outputs": [
    {
     "output_type": "stream",
     "name": "stdout",
     "text": [
      "+-----------------------------------+-----------------+\n|region_name                        |presence, %      |\n+-----------------------------------+-----------------+\n|Республика Тыва                    |93.62542974951742|\n|Ямало-Ненецкий автономный округ    |91.87213306617981|\n|Кабардино-Балкарская Республика    |91.6978754085207 |\n|Чеченская Республика               |91.50929703298173|\n|Республика Северная Осетия - Алания|89.93704831730909|\n|Республика Дагестан                |87.44351419820495|\n|Карачаево-Черкесская Республика    |87.343809390099  |\n|Кемеровская область                |83.07556958224816|\n|Чукотский автономный округ         |82.26051697921946|\n|Республика Ингушетия               |81.95937165135314|\n|Брянская область                   |79.65976807571519|\n|Тюменская область                  |78.8829673763749 |\n|Республика Мордовия                |77.83648793754097|\n|Краснодарский край                 |77.83466166202626|\n|Республика Татарстан (Татарстан)   |77.3652654820273 |\n|Чувашская Республика - Чувашия     |76.21061419670117|\n|Республика Башкортостан            |75.42120065745192|\n|Республика Бурятия                 |75.19133382510174|\n|Республика Адыгея (Адыгея)         |74.3059515324305 |\n|Ставропольский край                |73.77007114684982|\n+-----------------------------------+-----------------+\nonly showing top 20 rows\n\n"
     ]
    }
   ],
   "source": [
    "data.groupBy('region_name').agg(\n",
    "    F.sum('cnt_list_voters').alias('cnt_list_voters'),\n",
    "    F.sum('stat_box_bulletins').alias('stat_box_bulletins'),\n",
    "    F.sum('transfer_box_bulletins').alias('transfer_box_bulletins'),\n",
    ").select(\n",
    "    F.col('region_name'),\n",
    "    ((F.col('stat_box_bulletins') + F.col('transfer_box_bulletins')) / F.col('cnt_list_voters') * 100).alias('presence, %')\n",
    ").sort('presence, %', ascending=False).show(truncate=False)"
   ]
  },
  {
   "source": [
    "## Выбрать любимого кандидата и найти тот избиратльный участок, на котором он получил наибольший результат (учитывать участки на которых проголосовало больше 300 человек)"
   ],
   "cell_type": "markdown",
   "metadata": {}
  },
  {
   "cell_type": "code",
   "execution_count": 5,
   "metadata": {},
   "outputs": [
    {
     "output_type": "stream",
     "name": "stdout",
     "text": [
      "grudinin\n",
      "+---------------+------------------------+-------+-------------+\n",
      "|region_name    |tik_name                |uik_num|percentage, %|\n",
      "+---------------+------------------------+-------+-------------+\n",
      "|Приморский край|Владивосток, Фрунзенская|5924   |80.0         |\n",
      "+---------------+------------------------+-------+-------------+\n",
      "only showing top 1 row\n",
      "\n"
     ]
    }
   ],
   "source": [
    "from numpy.random import randint\n",
    "fav_candid = schema[17 + randint(0, 8)].name\n",
    "print(fav_candid)\n",
    "data.select(\n",
    "    F.col('region_name'),\n",
    "    F.col('tik_name'),\n",
    "    F.col('uik_num'),\n",
    "    (F.col(fav_candid) / F.col('cnt_list_voters') * 100).alias('percentage, %')\n",
    ").sort('percentage, %', ascending=False).show(1, truncate=False)"
   ]
  },
  {
   "source": [
    "## Найти регион, где разница между ТИК с наибольшей явкой и наименьшей максимальна"
   ],
   "cell_type": "markdown",
   "metadata": {}
  },
  {
   "cell_type": "code",
   "execution_count": 6,
   "metadata": {},
   "outputs": [
    {
     "output_type": "stream",
     "name": "stdout",
     "text": [
      "+---------------------+----------------------+\n|region_name          |difference_presence, %|\n+---------------------+----------------------+\n|Архангельская область|49.8591648406849      |\n+---------------------+----------------------+\nonly showing top 1 row\n\n"
     ]
    }
   ],
   "source": [
    "data.select(\n",
    "    F.col('region_name'),\n",
    "    F.col('tik_name'),\n",
    "    F.col('cnt_list_voters'),\n",
    "    F.col('stat_box_bulletins'),\n",
    "    F.col('transfer_box_bulletins')\n",
    ").groupBy('region_name', 'tik_name').agg(\n",
    "    F.sum('cnt_list_voters').alias('cnt_list_voters'),\n",
    "    F.sum('stat_box_bulletins').alias('stat_box_bulletins'),\n",
    "    F.sum('transfer_box_bulletins').alias('transfer_box_bulletins'),\n",
    ").select(\n",
    "    F.col('region_name'), ((F.col('stat_box_bulletins') + F.col('transfer_box_bulletins')) / F.col('cnt_list_voters')).alias('presence')\n",
    ").groupBy('region_name').agg(F.max('presence').alias('max_presence'), F.min('presence').alias('min_presence')\n",
    ").select(\n",
    "    F.col('region_name'), ((F.col('max_presence') - F.col('min_presence')) * 100).alias('difference_presence, %')\n",
    ").sort('difference_presence, %', ascending=False).show(1, truncate=False)"
   ]
  },
  {
   "source": [
    "## Посчитать дисперсию по явке для каждого региона (учитывать УИК)"
   ],
   "cell_type": "markdown",
   "metadata": {}
  },
  {
   "cell_type": "code",
   "execution_count": 7,
   "metadata": {},
   "outputs": [
    {
     "output_type": "stream",
     "name": "stdout",
     "text": [
      "+--------------------------------+-------------------+\n|region_name                     |std_dev_presence   |\n+--------------------------------+-------------------+\n|Сахалинская область             |0.20188798623588156|\n|Камчатский край                 |0.16873475777512123|\n|Мурманская область              |0.16742131453895345|\n|Приморский край                 |0.16639015831512335|\n|Республика Адыгея (Адыгея)      |0.16333249598843566|\n|Самарская область               |0.1562883627711599 |\n|Саратовская область             |0.15426531267153373|\n|Республика Калмыкия             |0.15350844523090657|\n|Воронежская область             |0.14975754071870498|\n|Магаданская область             |0.14387651017723133|\n|Республика Татарстан (Татарстан)|0.14172353736111934|\n|Липецкая область                |0.14096365252591136|\n|Архангельская область           |0.1409455295612833 |\n|Краснодарский край              |0.1394657822552809 |\n|Хабаровский край                |0.13811595897262202|\n|Белгородская область            |0.1375828241478792 |\n|Ставропольский край             |0.13411190491014102|\n|Республика Бурятия              |0.1330825305273712 |\n|Ростовская область              |0.13138651268427387|\n|Чувашская Республика - Чувашия  |0.13041627601227343|\n+--------------------------------+-------------------+\nonly showing top 20 rows\n\n"
     ]
    }
   ],
   "source": [
    "data.groupBy('region_name').agg(\n",
    "    F.stddev( (F.col('stat_box_bulletins') + F.col('transfer_box_bulletins')) / F.col('cnt_list_voters') ).alias('std_dev_presence')\n",
    ").sort('std_dev_presence', ascending=False).show(truncate=False)"
   ]
  },
  {
   "source": [
    "## Для каждого кандидата посчитать таблицу: результат (%, округленный до целого) - количество УИК, на которых кандидат получил данный результат"
   ],
   "cell_type": "markdown",
   "metadata": {}
  },
  {
   "cell_type": "code",
   "execution_count": 8,
   "metadata": {},
   "outputs": [],
   "source": [
    "candidates = [_.name for _ in schema[17:]]\n",
    "\n",
    "result_candidates = [(candidate,\n",
    "data.select(\n",
    "    (F.ceil(F.col(candidate) / F.col('cnt_list_voters') * 100)).alias('result, %')\n",
    "    ).groupBy('result, %').agg(F.count('result, %')\n",
    "    ).sort('count(result, %)', ascending=False))\n",
    "    for candidate in candidates]"
   ]
  },
  {
   "cell_type": "code",
   "execution_count": 9,
   "metadata": {},
   "outputs": [
    {
     "output_type": "stream",
     "name": "stdout",
     "text": [
      "baburin\n",
      "+---------+----------------+\n",
      "|result, %|count(result, %)|\n",
      "+---------+----------------+\n",
      "|        1|           72642|\n",
      "|        0|           19436|\n",
      "|        2|            4391|\n",
      "|        3|             504|\n",
      "|        4|             153|\n",
      "|        5|              70|\n",
      "|        6|              26|\n",
      "|        7|              20|\n",
      "|        8|              17|\n",
      "|       10|               9|\n",
      "|        9|               7|\n",
      "|       11|               4|\n",
      "|       15|               3|\n",
      "|       12|               2|\n",
      "|       20|               2|\n",
      "|       17|               2|\n",
      "|       22|               1|\n",
      "|       24|               1|\n",
      "|       19|               1|\n",
      "|       13|               1|\n",
      "+---------+----------------+\n",
      "only showing top 20 rows\n",
      "\n",
      "grudinin\n",
      "+---------+----------------+\n",
      "|result, %|count(result, %)|\n",
      "+---------+----------------+\n",
      "|        8|           12848|\n",
      "|        7|           12047|\n",
      "|        9|           10891|\n",
      "|        6|            9421|\n",
      "|       10|            7978|\n",
      "|        5|            6978|\n",
      "|       11|            5607|\n",
      "|        4|            5296|\n",
      "|        3|            4324|\n",
      "|       12|            3962|\n",
      "|        2|            3712|\n",
      "|       13|            3005|\n",
      "|       14|            2259|\n",
      "|        1|            1575|\n",
      "|       15|            1557|\n",
      "|       16|            1178|\n",
      "|       17|             890|\n",
      "|        0|             889|\n",
      "|       18|             636|\n",
      "|       19|             478|\n",
      "+---------+----------------+\n",
      "only showing top 20 rows\n",
      "\n",
      "jirinovskiy\n",
      "+---------+----------------+\n",
      "|result, %|count(result, %)|\n",
      "+---------+----------------+\n",
      "|        4|           21258|\n",
      "|        5|           18153|\n",
      "|        3|           15298|\n",
      "|        6|           11419|\n",
      "|        2|            7009|\n",
      "|        7|            6617|\n",
      "|        1|            5020|\n",
      "|        8|            3844|\n",
      "|        9|            2224|\n",
      "|        0|            2201|\n",
      "|       10|            1447|\n",
      "|       11|             811|\n",
      "|       12|             521|\n",
      "|       13|             312|\n",
      "|       14|             246|\n",
      "|       15|             178|\n",
      "|       16|             125|\n",
      "|       17|             103|\n",
      "|       18|              84|\n",
      "|       19|              60|\n",
      "+---------+----------------+\n",
      "only showing top 20 rows\n",
      "\n",
      "putin\n",
      "+---------+----------------+\n",
      "|result, %|count(result, %)|\n",
      "+---------+----------------+\n",
      "|       45|            3773|\n",
      "|       46|            3751|\n",
      "|       44|            3713|\n",
      "|       43|            3631|\n",
      "|       47|            3540|\n",
      "|       48|            3336|\n",
      "|       42|            3188|\n",
      "|       49|            3156|\n",
      "|       50|            2985|\n",
      "|       41|            2791|\n",
      "|       40|            2566|\n",
      "|       51|            2483|\n",
      "|       52|            2407|\n",
      "|       53|            2203|\n",
      "|       54|            2033|\n",
      "|       39|            1983|\n",
      "|       55|            1828|\n",
      "|       56|            1687|\n",
      "|       38|            1667|\n",
      "|       57|            1658|\n",
      "+---------+----------------+\n",
      "only showing top 20 rows\n",
      "\n",
      "sobchak\n",
      "+---------+----------------+\n",
      "|result, %|count(result, %)|\n",
      "+---------+----------------+\n",
      "|        1|           49379|\n",
      "|        2|           23519|\n",
      "|        0|           14822|\n",
      "|        3|            6478|\n",
      "|        4|            1885|\n",
      "|        5|             647|\n",
      "|        6|             231|\n",
      "|        7|              78|\n",
      "|        8|              69|\n",
      "|        9|              44|\n",
      "|       10|              34|\n",
      "|       11|              28|\n",
      "|       12|              16|\n",
      "|       15|              12|\n",
      "|       13|              12|\n",
      "|       16|              10|\n",
      "|       14|               8|\n",
      "|       18|               4|\n",
      "|       19|               4|\n",
      "|       25|               3|\n",
      "+---------+----------------+\n",
      "only showing top 20 rows\n",
      "\n",
      "suraykin\n",
      "+---------+----------------+\n",
      "|result, %|count(result, %)|\n",
      "+---------+----------------+\n",
      "|        1|           72716|\n",
      "|        0|           18134|\n",
      "|        2|            5072|\n",
      "|        3|             779|\n",
      "|        4|             228|\n",
      "|        5|             143|\n",
      "|        6|              57|\n",
      "|        7|              51|\n",
      "|        8|              47|\n",
      "|        9|              44|\n",
      "|       10|              13|\n",
      "|       11|               5|\n",
      "|       17|               2|\n",
      "|       14|               1|\n",
      "|       13|               1|\n",
      "|       12|               1|\n",
      "|       15|               1|\n",
      "+---------+----------------+\n",
      "\n",
      "titov\n",
      "+---------+----------------+\n",
      "|result, %|count(result, %)|\n",
      "+---------+----------------+\n",
      "|        1|           65005|\n",
      "|        0|           24952|\n",
      "|        2|            6605|\n",
      "|        3|             446|\n",
      "|        4|             131|\n",
      "|        5|              63|\n",
      "|        6|              30|\n",
      "|        7|              14|\n",
      "|        8|              13|\n",
      "|        9|              10|\n",
      "|       10|               6|\n",
      "|       15|               4|\n",
      "|       13|               3|\n",
      "|       12|               2|\n",
      "|       11|               2|\n",
      "|       20|               2|\n",
      "|       30|               1|\n",
      "|       18|               1|\n",
      "|       17|               1|\n",
      "|       14|               1|\n",
      "+---------+----------------+\n",
      "only showing top 20 rows\n",
      "\n",
      "yavlinskiy\n",
      "+---------+----------------+\n",
      "|result, %|count(result, %)|\n",
      "+---------+----------------+\n",
      "|        1|           54851|\n",
      "|        0|           27533|\n",
      "|        2|           11139|\n",
      "|        3|            2817|\n",
      "|        4|             681|\n",
      "|        5|             142|\n",
      "|        6|              47|\n",
      "|        7|              30|\n",
      "|        8|              21|\n",
      "|        9|              10|\n",
      "|       10|               9|\n",
      "|       11|               5|\n",
      "|       15|               3|\n",
      "|       19|               2|\n",
      "|       12|               1|\n",
      "|       22|               1|\n",
      "|       17|               1|\n",
      "|       14|               1|\n",
      "|       20|               1|\n",
      "+---------+----------------+\n",
      "\n"
     ]
    }
   ],
   "source": [
    "for candidate in result_candidates:\n",
    "    name, frame = candidate\n",
    "    print(name)\n",
    "    frame.show()"
   ]
  }
 ],
 "metadata": {
  "kernelspec": {
   "name": "python3",
   "display_name": "Python 3.9.0 64-bit"
  },
  "language_info": {
   "codemirror_mode": {
    "name": "ipython",
    "version": 3
   },
   "file_extension": ".py",
   "mimetype": "text/x-python",
   "name": "python",
   "nbconvert_exporter": "python",
   "pygments_lexer": "ipython3",
   "version": "3.9.0"
  },
  "interpreter": {
   "hash": "b04c4cdba3b78c0744f7eae2d0be3efc15ec33ae87854609187385102216bf20"
  }
 },
 "nbformat": 4,
 "nbformat_minor": 5
}