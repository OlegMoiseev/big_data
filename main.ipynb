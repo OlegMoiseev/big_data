{
 "metadata": {
  "language_info": {
   "codemirror_mode": {
    "name": "ipython",
    "version": 3
   },
   "file_extension": ".py",
   "mimetype": "text/x-python",
   "name": "python",
   "nbconvert_exporter": "python",
   "pygments_lexer": "ipython3",
   "version": "3.9.0"
  },
  "orig_nbformat": 4,
  "kernelspec": {
   "name": "python3",
   "display_name": "Python 3.9.0 64-bit"
  },
  "interpreter": {
   "hash": "b04c4cdba3b78c0744f7eae2d0be3efc15ec33ae87854609187385102216bf20"
  }
 },
 "nbformat": 4,
 "nbformat_minor": 2,
 "cells": [
  {
   "source": [
    "# Task 2\n",
    "Нужно сгенерировать файл, содержащий 2000 48-битных случайных целых чисел, каждое число на отдельной строке.\n",
    "\n",
    "Посчитать, какое суммарное количество простых множителей присутствует при факторизации всех чисел. Например, пусть всего два числа:\n",
    "\n",
    "6 и 8. 6 = 2 \\* 3, 8 = 2 \\* 2 \\* 2. Ответ 5.\n",
    "\n",
    "Реализовать подсчет:\n",
    "- простым последовательным алгоритмом\n",
    "- многопоточно, с использованием примитивов синхронизации\n",
    "- с помощью Akka (или аналога)\n",
    "- c помощью RxJava (или аналога)\n",
    "\n",
    "\n",
    "Измерить время выполнения для каждого случая. Использовать уровень параллельности в соответствии с числом ядер вашего CPU.\n",
    "\n"
   ],
   "cell_type": "markdown",
   "metadata": {}
  },
  {
   "source": [
    "## Генерация данных\n",
    "В файле создаются 2000 случайных 48-битных целых чисел "
   ],
   "cell_type": "markdown",
   "metadata": {}
  },
  {
   "cell_type": "code",
   "execution_count": 1,
   "metadata": {},
   "outputs": [],
   "source": [
    "num_int = 2000\n",
    "file_name = \"int48file\""
   ]
  },
  {
   "cell_type": "code",
   "execution_count": 2,
   "metadata": {},
   "outputs": [],
   "source": [
    "from generator import create_file_with_int48\n",
    "\n",
    "create_file_with_int48(num_int, file_name)"
   ]
  },
  {
   "source": [
    "Функция факторизации"
   ],
   "cell_type": "markdown",
   "metadata": {}
  },
  {
   "cell_type": "code",
   "execution_count": 3,
   "metadata": {},
   "outputs": [],
   "source": [
    "def calc_num_factor(n):\n",
    "    ans = 0\n",
    "    d = 2\n",
    "    while d * d <= n:\n",
    "        if n % d == 0:\n",
    "            ans += 1\n",
    "            n //= d\n",
    "        else:\n",
    "            d += 1\n",
    "    if n > 1:\n",
    "        ans += 1\n",
    "    return ans"
   ]
  },
  {
   "source": [
    "## Последовательная факторизация + своя функция факторизации"
   ],
   "cell_type": "markdown",
   "metadata": {}
  },
  {
   "cell_type": "code",
   "execution_count": 4,
   "metadata": {},
   "outputs": [],
   "source": [
    "from generator import read_f\n",
    "import numpy as np"
   ]
  },
  {
   "cell_type": "code",
   "execution_count": 5,
   "metadata": {},
   "outputs": [
    {
     "output_type": "stream",
     "name": "stdout",
     "text": [
      "Wall time: 0 ns\n"
     ]
    }
   ],
   "source": [
    "%%time\n",
    "\n",
    "# sum = 0\n",
    "# array = read_f(file_name)\n",
    "# for elem in array:\n",
    "#     print(elem)\n",
    "#     sum += calc_num_factor(elem)"
   ]
  },
  {
   "source": [
    "## Последовательная факторизация + sympy"
   ],
   "cell_type": "markdown",
   "metadata": {}
  },
  {
   "cell_type": "code",
   "execution_count": 6,
   "metadata": {},
   "outputs": [],
   "source": [
    "from sympy.ntheory import factorint"
   ]
  },
  {
   "cell_type": "code",
   "execution_count": 7,
   "metadata": {},
   "outputs": [],
   "source": [
    "def get_sum_factorization(num):\n",
    "    return sum(factorint(num).values())"
   ]
  },
  {
   "cell_type": "code",
   "execution_count": 8,
   "metadata": {},
   "outputs": [
    {
     "output_type": "stream",
     "name": "stdout",
     "text": [
      "Wall time: 1.73 s\n"
     ]
    },
    {
     "output_type": "execute_result",
     "data": {
      "text/plain": [
       "9018"
      ]
     },
     "metadata": {},
     "execution_count": 8
    }
   ],
   "source": [
    "%%time\n",
    "\n",
    "arr = read_f(file_name)\n",
    "sum(np.vectorize(get_sum_factorization)(arr))"
   ]
  },
  {
   "source": [
    "## Многопоточная факторизация + sympy"
   ],
   "cell_type": "markdown",
   "metadata": {}
  },
  {
   "cell_type": "code",
   "execution_count": 9,
   "metadata": {},
   "outputs": [],
   "source": [
    "def get_splited(f_n, num):\n",
    "    return np.array_split(read_f(f_n), num)"
   ]
  },
  {
   "cell_type": "code",
   "execution_count": 10,
   "metadata": {},
   "outputs": [],
   "source": [
    "from multiprocessing.dummy import Pool\n",
    "\n",
    "num_process = 8"
   ]
  },
  {
   "cell_type": "code",
   "execution_count": 11,
   "metadata": {},
   "outputs": [
    {
     "output_type": "stream",
     "name": "stdout",
     "text": [
      "Wall time: 1.63 s\n"
     ]
    },
    {
     "output_type": "execute_result",
     "data": {
      "text/plain": [
       "9018"
      ]
     },
     "metadata": {},
     "execution_count": 11
    }
   ],
   "source": [
    "%%time\n",
    "\n",
    "sptlited_arrays = get_splited(file_name, num_process)\n",
    "sum(sum(Pool(num_process).map(np.vectorize(get_sum_factorization), sptlited_arrays)))"
   ]
  },
  {
   "source": [
    "## Многопроцессорная факторизация + sympy"
   ],
   "cell_type": "markdown",
   "metadata": {}
  },
  {
   "cell_type": "code",
   "execution_count": 12,
   "metadata": {},
   "outputs": [],
   "source": [
    "from multiprocessing import Pool as pool_proc"
   ]
  },
  {
   "cell_type": "code",
   "execution_count": 13,
   "metadata": {},
   "outputs": [
    {
     "output_type": "stream",
     "name": "stdout",
     "text": [
      "Wall time: 0 ns\n"
     ]
    }
   ],
   "source": [
    "%%time\n",
    "\n",
    "# sptlited_arrays = get_splited(file_name, num_process)\n",
    "# sum(sum(pool_proc(num_process).map(np.vectorize(get_sum_factorization), sptlited_arrays)))"
   ]
  },
  {
   "source": [
    "## Многопоточная факторизация Pykka"
   ],
   "cell_type": "markdown",
   "metadata": {}
  },
  {
   "cell_type": "code",
   "execution_count": 14,
   "metadata": {},
   "outputs": [],
   "source": [
    "import pykka"
   ]
  },
  {
   "cell_type": "code",
   "execution_count": 15,
   "metadata": {},
   "outputs": [],
   "source": [
    "class factoriser(pykka.ThreadingActor):\n",
    "    def on_receive(self, array):\n",
    "        return np.sum(np.vectorize(get_sum_factorization)(array))"
   ]
  },
  {
   "cell_type": "code",
   "execution_count": 16,
   "metadata": {},
   "outputs": [
    {
     "output_type": "stream",
     "name": "stdout",
     "text": [
      "Wall time: 1.71 s\n"
     ]
    },
    {
     "output_type": "execute_result",
     "data": {
      "text/plain": [
       "9018"
      ]
     },
     "metadata": {},
     "execution_count": 16
    }
   ],
   "source": [
    "%%time\n",
    "\n",
    "sptlited_arrays = get_splited(file_name, num_process)\n",
    "factoriser = factoriser.start()\n",
    "\n",
    "result = np.sum([factoriser.ask(elem) for elem in sptlited_arrays])\n",
    "pykka.ActorRegistry.stop_all()\n",
    "result"
   ]
  },
  {
   "source": [
    "## Многопоточная факторизация RxPY"
   ],
   "cell_type": "markdown",
   "metadata": {}
  },
  {
   "cell_type": "code",
   "execution_count": 17,
   "metadata": {},
   "outputs": [],
   "source": [
    "import rx\n",
    "from rx import operators as ops"
   ]
  },
  {
   "cell_type": "code",
   "execution_count": 18,
   "metadata": {},
   "outputs": [],
   "source": [
    "def output(result):\n",
    "    print('%d' % result)"
   ]
  },
  {
   "cell_type": "code",
   "execution_count": 19,
   "metadata": {},
   "outputs": [
    {
     "output_type": "stream",
     "name": "stdout",
     "text": [
      "9018\nWall time: 1.78 s\n"
     ]
    },
    {
     "output_type": "execute_result",
     "data": {
      "text/plain": [
       "<rx.disposable.disposable.Disposable at 0x2b2860b7910>"
      ]
     },
     "metadata": {},
     "execution_count": 19
    }
   ],
   "source": [
    "%%time\n",
    "\n",
    "source = rx.of(*read_f(file_name))\n",
    "source.pipe(\n",
    "    ops.map(get_sum_factorization),\n",
    "    ops.sum()\n",
    ").subscribe(output)\n"
   ]
  },
  {
   "source": [
    "## Результаты\n",
    "В результате данной работы получены следующие результаты:\n",
    "- последовательная 1.73c\n",
    "- многопоточная 1.63c\n",
    "- многопоточная Pykka 1.71c\n",
    "- многопоточная RxPY 1.78c\n",
    "\n",
    "Во всех приведенных вариантах для факторизации использовалась функция из библиотеки SymPy. При использовании своей функции результат превосходил разумные временные рамки в сравнении с приведенными выше.\n",
    "Кроме того, было выявленно странное поведение распараллеливания, основанного на многопроцессорности – также результат вычислялся несоизмеримо дольше."
   ],
   "cell_type": "markdown",
   "metadata": {}
  }
 ]
}