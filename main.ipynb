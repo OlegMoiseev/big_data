{
 "cells": [
  {
   "cell_type": "markdown",
   "id": "58c978e8",
   "metadata": {},
   "source": [
    "# Task 1\n",
    "Нужно написать две программы: Первая генерирует бинарный файл (min 2Гб), состоящий из случайных 32-рязрядных беззнаковых целых чисел (big endian). Вторая считает сумму этих чисел (с применением длинной арифметики), находит минимальное и максимальное число.\n",
    "\n",
    "Реализуйте две версии - 1. Простое последовательное чтение 2. Многопоточная + memory-mapped files. Сравните время работы."
   ]
  },
  {
   "cell_type": "markdown",
   "id": "72c674f2",
   "metadata": {},
   "source": [
    "## Генерация данных\n",
    "В файле с заданными рамером и названием генерируется массив беззнаковых чисел с байтовым порядком Big Endian."
   ]
  },
  {
   "cell_type": "code",
   "execution_count": 1,
   "id": "352b589e",
   "metadata": {},
   "outputs": [],
   "source": [
    "from generator import generate"
   ]
  },
  {
   "cell_type": "code",
   "execution_count": 2,
   "id": "7251de50",
   "metadata": {},
   "outputs": [],
   "source": [
    "filename = 'generated_numbers_32b'\n",
    "size = 2048*1024*1024"
   ]
  },
  {
   "cell_type": "code",
   "execution_count": 3,
   "metadata": {},
   "outputs": [],
   "source": [
    "generate(size, filename)"
   ]
  },
  {
   "cell_type": "markdown",
   "id": "0577cebe",
   "metadata": {},
   "source": [
    "## Последовательное чтение NumPy\n",
    "Последовательное считывание данных и нахождение с использованием numpy суммы, минимального и максимального числа."
   ]
  },
  {
   "cell_type": "code",
   "execution_count": 4,
   "id": "80f00cea",
   "metadata": {},
   "outputs": [],
   "source": [
    "import numpy as np\n",
    "from generator import read_f\n",
    "\n",
    "from generator import disp_res"
   ]
  },
  {
   "cell_type": "code",
   "execution_count": 6,
   "id": "252d40cc",
   "metadata": {},
   "outputs": [
    {
     "output_type": "stream",
     "name": "stdout",
     "text": [
      "Min:  13\nMax:  4294967292\nSum:  1420583910\nWall time: 2.73 s\n"
     ]
    }
   ],
   "source": [
    "%%time\n",
    "array = read_f(filename)\n",
    "disp_res(np.min(array), np.max(array), np.sum(array))"
   ]
  },
  {
   "cell_type": "markdown",
   "id": "112e4803",
   "metadata": {},
   "source": [
    "## Последовательное чтение Python\n",
    "Последовательное считывание данных и нахождение стандартными способами суммы, минимального и максимального чисел."
   ]
  },
  {
   "cell_type": "code",
   "execution_count": 7,
   "id": "689b0f40",
   "metadata": {},
   "outputs": [
    {
     "output_type": "stream",
     "name": "stdout",
     "text": [
      "Min:  13\nMax:  4294967292\nSum:  1152947155572122598\nWall time: 3min 5s\n"
     ]
    }
   ],
   "source": [
    "%%time\n",
    "array = read_f(filename)\n",
    "disp_res(min(array), max(array), sum(array))"
   ]
  },
  {
   "cell_type": "markdown",
   "id": "4b1c5df3",
   "metadata": {},
   "source": [
    "## Паралельное чтение multiprocessing потоки + numpy\n",
    "Для чтения используются memory map files. Для распараллеливания используется пул потоков 8 ядер в соответствии с процессором (Intel Core i7-10875H)"
   ]
  },
  {
   "cell_type": "code",
   "execution_count": 14,
   "id": "6045f5a9",
   "metadata": {},
   "outputs": [
    {
     "output_type": "execute_result",
     "data": {
      "text/plain": [
       "8"
      ]
     },
     "metadata": {},
     "execution_count": 14
    }
   ],
   "source": [
    "from generator import read_mmap_f\n",
    "from multiprocessing.dummy import Pool\n",
    "from toolz import juxt\n",
    "\n",
    "num_workers"
   ]
  },
  {
   "cell_type": "code",
   "execution_count": 16,
   "id": "1687fb81",
   "metadata": {},
   "outputs": [
    {
     "output_type": "stream",
     "name": "stdout",
     "text": [
      "Min:  13\nMax:  4294967292\nSum:  1420583910\nWall time: 535 ms\n"
     ]
    }
   ],
   "source": [
    "%%time\n",
    "read_file = read_mmap_f(size, filename)\n",
    "splited_arrays = np.array_split(read_file, num_workers)\n",
    "result = np.array(Pool(num_workers).map(juxt(np.sum, np.min, np.max), splited_arrays))\n",
    "\n",
    "disp_res(np.min(result[:, 1]), np.max(result[:, 2]), np.sum(result[:, 0]))"
   ]
  },
  {
   "cell_type": "markdown",
   "id": "38447029",
   "metadata": {},
   "source": [
    "## Паралельное чтение multiprocessing потоки + стандартные функции python\n",
    "Для чтения используются memory map files. Для распараллеливания используется пул потоков 8 ядер в соответствии с процессором (Intel Core i7-10875H)"
   ]
  },
  {
   "cell_type": "code",
   "execution_count": 10,
   "id": "4b4eed8c",
   "metadata": {},
   "outputs": [
    {
     "output_type": "stream",
     "name": "stdout",
     "text": [
      "Min:  13\nMax:  4294967292\nSum:  1152947155572122598\nWall time: 2min 59s\n"
     ]
    }
   ],
   "source": [
    "%%time\n",
    "read_file = read_mmap_f(size, filename)\n",
    "splited_arrays = np.array_split(read_file, num_workers)\n",
    "result = np.array(Pool(num_workers).map(juxt(sum, min, max), splited_arrays))\n",
    "\n",
    "disp_res(min(result[:, 1]), max(result[:, 2]), sum(result[:, 0]))"
   ]
  },
  {
   "cell_type": "markdown",
   "id": "2b0a925e",
   "metadata": {},
   "source": [
    "## Паралельное чтение multiprocessing процессы + numpy\n",
    "Для чтения используются memory map files. Для распараллеливания – пул процессов."
   ]
  },
  {
   "cell_type": "code",
   "execution_count": 11,
   "id": "8950987b",
   "metadata": {},
   "outputs": [],
   "source": [
    "from multiprocessing import Pool as pool_proc"
   ]
  },
  {
   "cell_type": "code",
   "execution_count": 13,
   "id": "c20daf0b",
   "metadata": {},
   "outputs": [
    {
     "output_type": "stream",
     "name": "stdout",
     "text": [
      "Min:  13\nMax:  4294967292\nSum:  1420583910\nWall time: 6.61 s\n"
     ]
    }
   ],
   "source": [
    "%%time\n",
    "read_file = read_mmap_f(size, filename)\n",
    "splited_arrays = np.array_split(read_file, num_workers)\n",
    "result = np.array(pool_proc(num_workers).map(juxt(np.sum, np.min, np.max), splited_arrays))\n",
    "\n",
    "disp_res(np.min(result[:, 1]), np.max(result[:, 2]), np.sum(result[:, 0]))"
   ]
  },
  {
   "cell_type": "markdown",
   "id": "96f5fad9",
   "metadata": {},
   "source": [
    "# Итоги работы\n",
    "Можно заметить, что релуьтаты улучшаяются в разы по скорости при использовании библиотеки numpy.\n",
    "В итоге лучший результат в 535мс был получен при использовании распараллеливания на основе потоков и вместе с numpy.\n",
    "Кроме того, были произведены замеры скорости по вычислению и с помощью потоков, и с помощью процессов. В первом случае результат составил 535мс, во втором – 6.61с. Но в любом случае это намного лучше, чем аналогичные процедуры с последовательным чтением и без memory-mapped files: 2.73с и 3м5с соответственно."
   ]
  }
 ],
 "metadata": {
  "kernelspec": {
   "name": "python3",
   "display_name": "Python 3.9.0 64-bit"
  },
  "language_info": {
   "codemirror_mode": {
    "name": "ipython",
    "version": 3
   },
   "file_extension": ".py",
   "mimetype": "text/x-python",
   "name": "python",
   "nbconvert_exporter": "python",
   "pygments_lexer": "ipython3",
   "version": "3.9.0"
  },
  "interpreter": {
   "hash": "b04c4cdba3b78c0744f7eae2d0be3efc15ec33ae87854609187385102216bf20"
  }
 },
 "nbformat": 4,
 "nbformat_minor": 5
}